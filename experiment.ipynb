{
 "cells": [
  {
   "cell_type": "code",
   "execution_count": 1,
   "id": "c53587c5",
   "metadata": {
    "vscode": {
     "languageId": "plaintext"
    }
   },
   "outputs": [],
   "source": [
    "# Import libraries\n",
    "\n",
    "import warnings\n",
    "warnings.filterwarnings(\"ignore\", category=RuntimeWarning)\n",
    "\n",
    "import os\n",
    "import re\n",
    "import time\n",
    "import base64\n",
    "from tqdm import tqdm\n",
    "from glob import glob\n",
    "from uuid import uuid4\n",
    "from typing import List\n",
    "from env_config.config import EnvConfig\n",
    "\n",
    "try:\n",
    "    from google import genai\n",
    "    from google.genai import types\n",
    "    from langchain_chroma import Chroma\n",
    "    from langchain.chains import RetrievalQA\n",
    "    from langchain_core.documents import Document\n",
    "    from langchain_core.prompts import PromptTemplate\n",
    "    from langchain_upstage import UpstageDocumentParseLoader\n",
    "    from langchain_openai import OpenAIEmbeddings, ChatOpenAI\n",
    "    from langchain.tools.retriever import create_retriever_tool\n",
    "except:\n",
    "    !pip install -U langchain-upstage langchain-core langchain-chroma langchain-openai langchain  \"google\" \"google.genai\"\n",
    "    from google import genai\n",
    "    from google.genai import types\n",
    "    from langchain_chroma import Chroma\n",
    "    from langchain.chains import RetrievalQA\n",
    "    from langchain_openai import OpenAIEmbeddings\n",
    "    from langchain_core.documents import Document\n",
    "    from langchain_upstage import UpstageDocumentParseLoader\n",
    "    from langchain_openai import OpenAIEmbeddings, ChatOpenAI\n",
    "    from langchain.tools.retriever import create_retriever_tool\n",
    "\n",
    "project_configs = EnvConfig()\n",
    "os.environ[\"OPENAI_API_KEY\"] = project_configs.OPENAI_API_KEY"
   ]
  },
  {
   "cell_type": "code",
   "execution_count": 2,
   "id": "0c43dfa8-64b9-4759-9b35-70c43b38ac27",
   "metadata": {},
   "outputs": [
    {
     "data": {
      "text/plain": [
       "['C:\\\\Users\\\\HP\\\\Documents\\\\Projects\\\\MyGeniusAI_Assessment\\\\pdfs\\\\FlexiCare - Accessing care at the hospital.pdf',\n",
       " 'C:\\\\Users\\\\HP\\\\Documents\\\\Projects\\\\MyGeniusAI_Assessment\\\\pdfs\\\\FlexiCare - Benefits.pdf',\n",
       " 'C:\\\\Users\\\\HP\\\\Documents\\\\Projects\\\\MyGeniusAI_Assessment\\\\pdfs\\\\FlexiCare - Exclusions.pdf',\n",
       " 'C:\\\\Users\\\\HP\\\\Documents\\\\Projects\\\\MyGeniusAI_Assessment\\\\pdfs\\\\FlexiCare - How it works.pdf',\n",
       " 'C:\\\\Users\\\\HP\\\\Documents\\\\Projects\\\\MyGeniusAI_Assessment\\\\pdfs\\\\FlexiCare - Need to know.pdf',\n",
       " 'C:\\\\Users\\\\HP\\\\Documents\\\\Projects\\\\MyGeniusAI_Assessment\\\\pdfs\\\\PrimeCare - Accessing care at the hospital.pdf',\n",
       " 'C:\\\\Users\\\\HP\\\\Documents\\\\Projects\\\\MyGeniusAI_Assessment\\\\pdfs\\\\PrimeCare - Benefits.pdf',\n",
       " 'C:\\\\Users\\\\HP\\\\Documents\\\\Projects\\\\MyGeniusAI_Assessment\\\\pdfs\\\\PrimeCare - Exclusions.pdf',\n",
       " 'C:\\\\Users\\\\HP\\\\Documents\\\\Projects\\\\MyGeniusAI_Assessment\\\\pdfs\\\\PrimeCare - How it works.pdf',\n",
       " 'C:\\\\Users\\\\HP\\\\Documents\\\\Projects\\\\MyGeniusAI_Assessment\\\\pdfs\\\\PrimeCare - Need to know.pdf',\n",
       " 'C:\\\\Users\\\\HP\\\\Documents\\\\Projects\\\\MyGeniusAI_Assessment\\\\pdfs\\\\ZenCare - Accessing care at the hospital.pdf',\n",
       " 'C:\\\\Users\\\\HP\\\\Documents\\\\Projects\\\\MyGeniusAI_Assessment\\\\pdfs\\\\ZenCare - Benefits.pdf',\n",
       " 'C:\\\\Users\\\\HP\\\\Documents\\\\Projects\\\\MyGeniusAI_Assessment\\\\pdfs\\\\ZenCare - Exclusions.pdf',\n",
       " 'C:\\\\Users\\\\HP\\\\Documents\\\\Projects\\\\MyGeniusAI_Assessment\\\\pdfs\\\\ZenCare - How it works.pdf',\n",
       " 'C:\\\\Users\\\\HP\\\\Documents\\\\Projects\\\\MyGeniusAI_Assessment\\\\pdfs\\\\ZenCare - Need to know.pdf']"
      ]
     },
     "execution_count": 2,
     "metadata": {},
     "output_type": "execute_result"
    }
   ],
   "source": [
    "# Get pdf paths\n",
    "\n",
    "pdfs_path = glob(os.getcwd()+\"\\\\pdfs\\\\*.pdf\")\n",
    "\n",
    "pdfs_path"
   ]
  },
  {
   "cell_type": "code",
   "execution_count": 3,
   "id": "f53a9db7-3c75-4f1c-88ba-0a228d66ffca",
   "metadata": {},
   "outputs": [],
   "source": [
    "def pdf_to_base64(pdf_path: str) -> str:\n",
    "    \"\"\"Convert a local PDF file to base64 string.\"\"\"\n",
    "    with open(pdf_path, \"rb\") as pdf_file:\n",
    "        return base64.b64encode(pdf_file.read()).decode('utf-8')\n",
    "\n",
    "def generate_with_base64(base64_data: str, input_prompt: str = \"Extract All the content found in the pdf.\"):\n",
    "    \"\"\"Function to generate text from base64\"\"\"\n",
    "    client = genai.Client(\n",
    "        api_key=project_configs.GEMINI_API_KEY,\n",
    "    )\n",
    "    model = \"gemini-2.5-pro\"\n",
    "    \n",
    "    contents = [\n",
    "        types.Content(\n",
    "            role=\"user\",\n",
    "            parts=[\n",
    "                types.Part.from_bytes(\n",
    "                    mime_type=\"application/pdf\",\n",
    "                    data=base64.b64decode(base64_data),\n",
    "                ),\n",
    "                types.Part.from_text(text=input_prompt),\n",
    "            ],\n",
    "        ),\n",
    "    ]\n",
    "    \n",
    "    tools = [\n",
    "        types.Tool(googleSearch=types.GoogleSearch()),\n",
    "    ]\n",
    "    \n",
    "    generate_content_config = types.GenerateContentConfig(\n",
    "        temperature=0,\n",
    "        thinking_config=types.ThinkingConfig(\n",
    "            thinking_budget=-1,\n",
    "        ),\n",
    "        tools=tools,\n",
    "        response_mime_type=\"text/plain\",\n",
    "    )\n",
    "\n",
    "    extracted_text = \"\"\n",
    "    for chunk in client.models.generate_content_stream(\n",
    "        model=model,\n",
    "        contents=contents,\n",
    "        config=generate_content_config,\n",
    "    ):\n",
    "        extracted_text+=chunk.text\n",
    "        \n",
    "    return extracted_text\n",
    "\n",
    "def CreateDocuments(pdf_paths:List[str])->List[Document]:\n",
    "    \"\"\"\n",
    "    Function to loop through list of pdf paths, extract content and store in a list of Document.\n",
    "    \"\"\"\n",
    "    list_of_documents = []\n",
    "    for path in tqdm(pdf_paths, desc=\"Extracting content from pdf's...\", total=len(pdf_paths)):\n",
    "        pdf_2_base64 = pdf_to_base64(path)\n",
    "        extracted_content = generate_with_base64(pdf_2_base64)\n",
    "        list_of_documents.append(Document(page_content=extracted_content,\n",
    "                                          metadata={\"pdf_name\":path.split(\"\\\\\")[-1]}))\n",
    "    return list_of_documents"
   ]
  },
  {
   "cell_type": "code",
   "execution_count": 4,
   "id": "e56a33ea-4c02-4e55-86de-f9aeaa05b45b",
   "metadata": {},
   "outputs": [
    {
     "name": "stderr",
     "output_type": "stream",
     "text": [
      "Extracting content from pdf's...: 100%|████████████████████████████████████████████████| 15/15 [04:26<00:00, 17.79s/it]\n"
     ]
    }
   ],
   "source": [
    "# Extract content from pdf\n",
    "\n",
    "doc_list_per_pdfs = CreateDocuments(pdfs_path)"
   ]
  },
  {
   "cell_type": "code",
   "execution_count": 5,
   "id": "6f88b5e4-8781-4bf4-a8d1-526e26502045",
   "metadata": {
    "scrolled": true
   },
   "outputs": [
    {
     "data": {
      "text/plain": [
       "[Document(metadata={'pdf_name': 'FlexiCare - Accessing care at the hospital.pdf'}, page_content='Here are things to note when accessing care at the hospital: \\n\\n **Prioritise your visit** \\n\\n We highly advise utilizing the \\'Visit Hospital\\' button as your first step. This helps us track your progress and prepares for your arrival, even in delays or emergencies. \\n\\n **Present your HMO I.D** \\n\\n When you arrive at the hospital, make sure to present this as it contains essential information for your healthcare coverage. \\n\\n **Check HMO I.D Details** \\n\\n Find your personal details on the HMO I.D. Below, you\\'ll see your HMO provider\\'s name (e.g., \"Hygeia\"). Tell them you are from Hygeia. \\n\\n **Contact Support** \\n\\n If you encounter challenges or have questions at the hospital, refer to the support line listed on your HMO I.D. \\n\\n * 08088188002 (WhatsApp Only) \\n * 09070008899 (WhatsApp and Call) \\n * 09039810004 (Call Only)'),\n",
       " Document(metadata={'pdf_name': 'FlexiCare - Benefits.pdf'}, page_content='Product Benefits\\n\\nThese are subscription-based plans and they would be renewed based on your cover period, automatically.\\n\\n| Benefit | FlexiCare | FlexiCare Mini |\\n|---|---|---|\\n| **Price** | ₦3,500 / person monthly | ₦2,000 / person monthly |\\n| **Get Covered** | Get Covered | Get Covered |\\n\\n**Benefits Available after 24 hours**\\n\\n| Benefit | FlexiCare | FlexiCare Mini |\\n|---|---|---|\\n| **Inpatient Limit** | up to ₦550,000 | up to ₦400,000 |\\n| **Outpatient Limit** | up to ₦350,000 | up to ₦250,000 |\\n| **Pharmacy Limit** | up to ₦100,000 | up to ₦50,000 |\\n| **Hospital access** | C-D | C-D |\\n| **General consultation** | Covered | Covered |\\n| **Treatment of basic medical outpatient and in-patient cases** | ✔ | ✔ |\\n| **Specialist Consultations** | Once / Month | Once / Month |\\n| **24 Hours free chat access to healthcare professionals** | Covered | Covered |\\n| **Free chats with Doctors and Nurses when in need of care during any medical emergency** | ✔ | ✔ |\\n| **Free chats with Doctors and Nurses when in need of any routine medical information** | ✔ | ✔ |\\n| **Free Telemedicine app** | ✔ | ✔ |\\n| **Diagnostics and imaging** | Covered | Covered |\\n| **X-Rays and Ultrasounds** | Limited to Chest X-Rays, Plain Abdominal X-Rays, Limb X-rays, Neck X-rays, Skull X-rays, Lumbosacral X-Rays, X-rays of Body Joints, Ultrasound Scan | Limited to Chest X-Rays, Plain Abdominal X-Rays, Limb X-rays, Neck X-rays, Skull X-rays, Lumbosacral X-Rays, X-rays of Body Joints, Ultrasound Scan |\\n| **Advanced Investigations, limited to CT Scan, MRI Scan, Echocardiography, Electrocardiography** | CT/M.R.I Scan Only (Emergency/Up to A&E Limit) | Not Covered |\\n| **Laboratory Tests** | Covered | Covered |\\n| **Haematological tests** | ✔ | ✔ |\\n| **Chemistry** | ✔ | ✔ |\\n| **Microbiology** | ✔ | ✔ |\\n| **Serology** | ✔ | ✔ |\\n| **Admissions and Accomodation** | Covered | Covered |\\n| **Feeding for enrolees on admission** | General Ward (Up to 20 Days/year) | General Ward (Up to 10 Days/year) |\\n| **Hospital Ward Care** | ✔ | ✔ |\\n| **Skilled medical and paramedical services** | ✔ | ✔ |\\n| **Supply of prescribed intravenous/intramuscular, oral and topical drugs** | ✔ | ✔ |\\n| **Supply of all medical and surgical consumables** | ✔ | ✔ |\\n| **Blood grouping, cross matching, and transfusion** | ✔ | ✔ |\\n| **Ear, nose & throat** | Not Covered | Not Covered |\\n| **Specialist Consultation** | — | — |\\n| **Treatment of acute and chronic ENT diseases** | — | — |\\n| **Pharmacological treatment of acute and chronic ENT infections** | — | — |\\n| **Accident and emergency** | Covered | Covered |\\n| **Resuscitative care for accident and emergency cases, including basic radiological and laboratory investigations needed to stabilize patient before being moved to the ICU if need be.** | Up to ₦80,000/ year | Up to ₦50,000/ year |\\n| **Family Planning** | Covered Up to ₦7,000 | Covered Up to ₦7,000 |\\n| **Copper T Intrauterine Device** | ✔ | ✔ |\\n| **Lippes loop Intrauterine Device** | ✔ | ✔ |\\n| **Oral Contraceptives** | ✔ | ✔ |\\n| **Norplant** | ✔ | ✔ |\\n| **Ambulance Services** | Up to 4 times/ year | Not Covered |\\n| **Movement of patients from Hospital to Hospital** | ✔ | — |\\n| **Movement of patients from Home/Accident Scene to Hospital** | ✔ | — |\\n| **Psychiatry Care** | Outpatient Only (6 weeks) | Outpatient Only (4 weeks) |\\n| **Mental illnesses** | ✔ | ✔ |\\n| **HIV care and treatment** | Covered | Covered |\\n| **Specialist Consultation** | Covered Up to Specialist Limit | Covered Up to Specialist Limit |\\n| **Specialist Drug therapy** | Covered Up to pharmacy Limit | Covered Up to pharmacy Limit |\\n| **Psychotherapy** | Covered under Telemedicine | Covered under Telemedicine |\\n| **Seeking second option** | Covered within HMO network | Covered within HMO network |\\n| **Diagnosis confirmation from secondary and tertiary care centres** | ✔ | ✔ |\\n| **Line of treatment confirmation from secondary and tertiary care centres** | ✔ | ✔ |\\n| **Death Cover** | Covered Up to ₦40,000 Limit | Not Covered |\\n| **Enrollee is covered for a payment up to the stated limit in the event of Death (Natural, Accidental). The actual amount paid is based on the event while eligibility is subject to compliance with the rules of the plan.** | ✔ | — |\\n\\n**Benefits Available after 4 MONTHS**\\n\\n| Benefit | FlexiCare | FlexiCare Mini |\\n|---|---|---|\\n| **Treatment of chronic conditions** | Not Covered | Not Covered |\\n| **General Consultations** | — | — |\\n| **Specialist Consultations** | — | — |\\n| **Chronic Disease Medication** | — | — |\\n| **Hospital Admissions** | — | — |\\n| **Laboratory tests** | — | — |\\n| **Eye Care** | Covered up to ₦5,000 | Covered up to ₦5,000 |\\n| **Specialist Consultation** | ✔ | ✔ |\\n| **Routine ocular examination** | ✔ | ✔ |\\n| **Pharmacological treatment of acute and chronic ocular infections** | ✔ | ✔ |\\n| **Ocular tests** | ✔ | ✔ |\\n| **Lenses** | Covered up to ₦5,000 (Once in 2 years) | Not Covered |\\n| **Frames** | ✔ | — |\\n| **Primary Dental Care** | Covered Up to Overall Dental Limit of ₦5,000. | Covered Up to Overall Dental Limit of ₦5,000. |\\n| **Specialist Consultation** | ✔ | ✔ |\\n| **Routine dental examination** | ✔ | ✔ |\\n| **Preventive dental care and counselling** | ✔ | ✔ |\\n| **Dental pain therapy at primary healthcare centres** | ✔ | ✔ |\\n| **Pharmacological treatment of acute and chronic dental infections** | ✔ | ✔ |\\n| **Access to prescribed drugs** | ✔ | ✔ |\\n| **Secondary Dental Care** | Covered Up to Overall Dental Limit of ₦5,000. | Covered Up to Overall Dental Limit of ₦5,000. |\\n| **Surgical extraction** | ✔ | ✔ |\\n| **Non-surgical extraction** | ✔ | ✔ |\\n| **Root Canal Therapy** | ✔ | ✔ |\\n| **Scaling and Polishing** | ✔ | ✔ |\\n| **Operculectomy** | ✔ | ✔ |\\n| **Composite Filling** | ✔ | ✔ |\\n| **Amalgam Filling** | ✔ | ✔ |\\n| **Incision and Drainage** | ✔ | ✔ |\\n| **NPI Immunisation (0-5 years)** | Covered | Covered |\\n| **BCG** | ✔ | ✔ |\\n| **OPV** | ✔ | ✔ |\\n| **DPT** | ✔ | ✔ |\\n| **IPV** | — | — |\\n| **Vitamin A Supplementation** | — | — |\\n| **Pentavalent Vaccine** | — | — |\\n| **Measles** | — | — |\\n| **Yellow Fever** | — | — |\\n| **Thyphoid** | — | — |\\n| **Meningitis** | — | — |\\n| **Chicken Pox** | — | — |\\n| **Pneumococcal** | — | — |\\n| **Additional Immunisation (6 years and above)** | Not Covered | Not Covered |\\n| **Yellow Fever** | — | — |\\n| **Hepatitis B** | — | — |\\n\\n**Benefits Available after 7 MONTHS**\\n\\n| Benefit | FlexiCare | FlexiCare Mini |\\n|---|---|---|\\n| **Intensive Care Unit** | Not Covered | Not Covered |\\n| **For comatose & unconscious enrolees, Pain management, Stabilisation and maintenance treatment for chronic diseases, Ventilator care, Management of diabetes and diabetic emergencies, Long term skilled and semi-skilled hospital care** | — | — |\\n| **Surgeries** | Covered up to surgery limit of ₦100,000 | Covered up to surgery limit of ₦70,000 |\\n| **Minor surgeries** | ✔ | ✔ |\\n| **Intermediate surgeries** | ✔ | ✔ |\\n| **Major surgeries** | ✔ | ✔ |\\n| **Wellness Checks** | Covered | Covered |\\n| **BMI Check** | ✔ | ✔ |\\n| **General Physical Examination** | ✔ | ✔ |\\n| **Blood Pressure Check (Hypertension Screening)** | ✔ | ✔ |\\n| **Blood Sugar Check (Diabetes Screening)** | ✔ | ✔ |\\n| **Genotype** | — | — |\\n| **Blood Group** | — | — |\\n| **HIV** | — | — |\\n| **Urinalysis** | — | — |\\n| **Annual Prostate Specific Antigen screening for men over 40 years** | — | — |\\n| **Mammogram for women over 40 years every 2 years (every other year)** | — | — |\\n| **Mortuary Services** | Covered Up to ₦40,000 Limit | Not Covered |\\n\\n**Benefits Available after 11 MONTHS**\\n\\n| Benefit | FlexiCare | FlexiCare Mini |\\n|---|---|---|\\n| **Obstetrics Care** | Covered up to Maternity Limit of ₦100,000 | Covered up to Maternity Limit of ₦50,000 |\\n| **Antenatal Care** | ✔ | ✔ |\\n| **Delivery (Normal)** | ✔ | ✔ |\\n| **Delivery (Multiple)** | ✔ | ✔ |\\n| **Assisted Delivery** | ✔ | ✔ |\\n| **Manual Vacuum Aspiration** | ✔ | ✔ |\\n| **Neonatal Care** | Covered up to Maternity Limit of ₦100,000 | Covered up to Maternity Limit of ₦50,000 |\\n| **Male Circumcision** | ✔ | ✔ |\\n| **Ear Piercing** | ✔ | ✔ |\\n| **Renal Care** | Covered Up to ₦40,000 Limit | Not Covered |\\n| **Dialysis** | ✔ | — |'),\n",
       " Document(metadata={'pdf_name': 'FlexiCare - Exclusions.pdf'}, page_content=\"The following are excluded when you purchase the plan\\n\\nPre-Existing Conditions (PECs) are not covered in this plan\\n\\nA PEC is any health condition you had before the date that new health coverage starts; They include, but are NOT LIMITED TO: Hypertension; Pregnancy; Diabetes; Peptic Ulcer Disease; Osteoarthritis; Haemoglobinopathies; cancer; benign growths; lupus; sleep apnoea; acne; tuberculosis; etc.\\n\\nYou can call us if you want to purchase a pre-existing condition plan\\n\\nMedical Examinations, Services and Supplies.\\n\\nMedical examinations for the purposes of obtaining and maintaining employment.\\n\\nAdvanced Surgeries for the purposes of admission into schools, as a fulfillment of obligation required by schools from time to time, licensing and/or insurance. Including, but not limited to Fetal surgeries, Neuro surgeries, surgeries of the heart and/or liver, Organ transplant (including bone marrow transplant), shunt operations and cardiothoracic services. Limited to provision of hearing aids.\\n\\nIncluding, but not limited to cosmetic surgery, dentures, advanced conservative restorations, orthodontic and associated treatment.\\n\\nCustodial Care Home Care\\n\\nAdvanced Dental Care\\n\\nIncluding, but not limited to dental appliances, implants and supplies arising from procedures like surgeries.\\n\\nExperimental, Unorthodox or Trado-medical Care\\n\\nIncluding, but not limited to treatment of bone fractures in traditional bone setting homes.\\n\\nAdvanced Eye Treatment officially recognized by orthodox medicine.\\n\\nTreatment of glaucoma, retinal detachment, cataract extraction or any treatment not specifically mentioned in the benefit cover.\\n\\nForce Majeure\\n\\nIncluding, but not limited to Conditions relating to epidemics, Injuries arising from participating in wars, riots, strike and/or civil strife.\\n\\nLaser eye surgeries\\n\\nProfessional Sports and High Risk Sports\\n\\nBodily injuries arising from partaking in professional sports, including, but not limited to mountaineering where ropes and glides are used, aviation (except when patient is travelling solely as a passenger), gliding and parachuting, horse racing, car and motorbike racing.\\n\\nIllnesses of Unknown Cause\\n\\nAll diseases arising from unknown causes are excluded.\\n\\nInjuries Related to Intoxication or Fights and Physical Brawls.\\n\\nInjuries while under the influence of or disablement due wholly or partly to the effect of intoxicating liquor or drugs other than those prescribed by a medical practitioner; Treatment of drug addiction, attempted suicide and/or willfully inflicted injuries.\\n\\nOverseas treatment\\n\\nAll medical expenses incurred outside Nigeria.\\n\\nTreatment, Service or Supplies Considered not to be Medically Necessary\\n\\nThis applies even if they are prescribed, recommended, or approved by the person's attending Physician or dentist.\\n\\nWork-related Accidents According to the prescribed law.\\n\\nIn order for a treatment, service or supply to be considered Medically necessary, the service or supply must:\\n\\nBe a treatment which is likely to produce a significant positive outcome as and no more likely to produce a negative outcome than any alternative service or supply both as to the sickness or injury involved and the person's overall health condition; and\\n\\nWe shall not cover search and rescue operations if an enrollee is lost in a remote area.\\n\\nbe a diagnostic procedure which is indicated by the health status of the person and be as likely to result in information that could affect the course of treatment as and no more likely to produce a negative outcome than any alternative service or supply both as to the sickness or injury involved and the person's overall health condition; and\\n\\nTreatment of Newborns not Registered\\n\\nTreatment for Sexual Dysfunction, be not costlier (taking into account all health expenses incurred in connection with the treatment, service or supply), than any alternative service or supply to meet the above tests.\\n\\nWe shall not pay for appointments and treatments for sexual dysfunction, as well as virility enhancing drugs.\\n\\nMiscellaneous\\n\\nIf a service or supply is appropriate under the circumstances, We will take into consideration information relating to the affected person's health status, reports in peer-reviewed medical literature, reports and guidelines published by nationally recognized health care organizations that include those based on scientific data, the opinion of health professionals in the generally recognized health specialty involved; and any other relevant information brought to our attention.\\n\\nComplications (or further treatment) arising from treatment of ailments not covered by the scheme or treatment received from hospitals not on the network where prior authorization had not been obtained will not be considered to be medically necessary:\\n\\nInjuries sustained as a result of a criminal action\\n\\nthose that do not require the technical skills of a medical, a mental health, or a dental professional; or\\n\\nAny benefit not explicitly stated in the list of covered services.\"),\n",
       " Document(metadata={'pdf_name': 'FlexiCare - How it works.pdf'}, page_content=\"Here is the content extracted from the image:\\n\\nHere's how to get covered by us\\n\\n1.  Purchase the plan and add your staff.\\n2.  Ask the policyholders (your staff) to activate their plans, or do it yourself from your dashboard.\\n3.  After activation, the e-HMO ID will be automatically generated.\\n4.  24 hours after activation, your staff can present their HMO ID at any of the hospitals under the plan to receive healthcare.\"),\n",
       " Document(metadata={'pdf_name': 'FlexiCare - Need to know.pdf'}, page_content=\"Here are some major details you need to know about the product.\\n\\n**Your H.M.O ID is a requirement at the hospital**\\nYour H.M.O ID contains an enrolment number you present at the hospital to access care. It's important to have your HMO ID with you, as it is required for treatment at any of the listed hospitals.\\n\\n**Plan benefits are unlocked on consistent renewal**\\nYou unlock more benefits when you constantly renew your subscription. If you fail to renew, your benefits reset, and you'll only have access to the initial benefits available from the 1st month when you renew the plan.\\n\\n**All treatments not listed are not covered**\\nAny treatments, tests, procedures, and benefits not listed are not covered, and we will not bear liability for them.\\n\\n**You can access healthcare professionals from the comfort of your home**\\nYou can use the telemedicine option by simply calling a doctor via the platform.\\n\\n**Insurance regulations are adhered to**\\nThis is an insurance product, and it adheres to standard insurance procedures.\\n\\n**Auto renewal can be canceled at any point**\\nThis plan is a periodic subscription that renews automatically for card transactions as long as the registered card is funded. Upon renewal, the payment will be deducted from your registered card or funded wallet. You can cancel the auto-renewal at any time by contacting our support team.\\n\\n**Your benefits are usable 24 hours after activation**\\nYou can start using your benefits 24 hours after receiving your HMO ID.\\n\\n**Age Band**\\nThis cover is for persons up to 70 years\\n\\n**You can reach our support if you encounter any challenge**\\nWhen you or your staff arrive at any of the hospitals, tell them you are from Hygeia. If you experience any delay, call 09070008899\\n\\n08088188002 (WhatsApp Only)\\n09070008899 (WhatsApp and Call)\\n09039810004 (Call Only)\"),\n",
       " Document(metadata={'pdf_name': 'PrimeCare - Accessing care at the hospital.pdf'}, page_content='Here are things to note when accessing care at the hospital\\n\\n**Prioritise your visit**\\nWe highly advise utilizing the \\'Visit Hospital\\' button as your first step. This helps us track your progress and prepares for your arrival, even in delays or emergencies.\\n\\n**Present your HMO I.D**\\nWhen you arrive at the hospital, make sure to present this as it contains essential information for your healthcare coverage.\\n\\n**Check HMO I.D Details**\\nFind your personal details on the HMO I.D. Below, you\\'ll see your HMO provider\\'s name (e.g., \"Bastion\"). Tell them you are from Bastion.\\n\\n**Contact Support**\\nIf you encounter challenges or have questions at the hospital, refer to the support line listed on your HMO I.D.\\n\\n08088188002 (WhatsApp Only)\\n09070008899 (WhatsApp and Call)\\n09039810004 (Call Only)'),\n",
       " Document(metadata={'pdf_name': 'PrimeCare - Benefits.pdf'}, page_content='A comprehensive breakdown of the PrimeCare and PrimeCare Plus subscription-based health plans is detailed below, outlining the benefits and coverage provided by each.\\n\\n### **Plan Pricing**\\n\\n*   **PrimeCare:** ₦30,000 per person monthly\\n*   **PrimeCare Plus:** ₦60,000 per person monthly\\n\\n### **Core Benefits**\\n\\nBoth the PrimeCare and PrimeCare Plus plans offer a range of fundamental benefits with unlimited coverage for inpatient, outpatient, and pharmacy services. Subscribers to both plans are also entitled to general and specialist consultations, as well as 24-hour free chat access to healthcare professionals.\\n\\n### **Medical Services and Consultations**\\n\\n| Benefit | PrimeCare | PrimeCare Plus |\\n| :--- | :--- | :--- |\\n| **Free chats with Doctors and Nurses** | Emergency and routine medical information | Emergency and routine medical information |\\n| **Free Telemedicine app** | Included | Included |\\n| **Treatment of chronic conditions** | Covered | Covered |\\n| **General Consultations** | Included | Included |\\n| **Specialist Consultations** | Included | Included |\\n| **Chronic Disease Medication** | Drug delivery and pick up at partner pharmacies | Drug delivery and pick up at partner pharmacies |\\n| **Hospital Admissions** | Included | Included |\\n| **Laboratory tests** | Included | Included |\\n\\n### **Specialized Care and Treatments**\\n\\n| Benefit | PrimeCare | PrimeCare Plus |\\n| :--- | :--- | :--- |\\n| **Personal health equipment** | Covered only on medical diagnosis | Covered only on medical diagnosis |\\n| **Fertility services** | Covered | Covered |\\n| **Investigation and treatment** | ₦100,000 limit per plan | ₦200,000 limit per plan |\\n| **Accident and emergency** | Covered | Covered |\\n| **Intensive care unit** | Covered | Covered |\\n| **Care for comatose & unconscious enrollees** | 7 Days | 10 Days |\\n| **Diagnostics and imaging** | Covered | Covered |\\n| **X-Rays and Ultrasounds** | Covered (Not limited to the list) | Covered (Not limited to the list) |\\n| **Advanced Investigations** | Covered (Not limited to the list) | Covered (Not limited to the list) |\\n| **Laboratory Tests** | Covered | Covered |\\n| **Admissions and Accomodation** | Covered | Covered |\\n| **Feeding for enrolees on admission** | Private Ward | Private Ward |\\n| **Hospital Ward Care** | Private Ward | Private Ward |\\n| **Skilled medical and paramedical services** | Private Ward | Private Ward |\\n| **Supply of prescribed drugs** | Private Ward | Private Ward |\\n| **Supply of medical and surgical consumables** | Private Ward | Private Ward |\\n| **Blood services** | Private Ward | Private Ward |\\n| **Accommodation for in-patient care** | Private Ward | Private Ward |\\n| **Accommodation for parents of admitted infants** | 5 days | 7 Days |\\n| **Inpatient/Hospitalization Benefit Abroad** | ₦350,000 | ₦450,000 |\\n| **Ear, nose & throat** | Covered | Covered |\\n| **Mental Health** | Covered | Covered |\\n| **Specialist Consultations (Outpatient)** | 12 weeks | 12 weeks |\\n| **Employee Assistance Program** | 12 weeks | 12 weeks |\\n| **Covid Home Care Kit** | 12 weeks (up to limit on the plan) | 12 weeks (up to limit on the plan) |\\n| **Health Talks/Education forum** | 12 weeks | 12 weeks |\\n| **Eye Care** | Covered | Covered |\\n| **Lenses** | Covered ₦45,000 | Covered up to ₦55,000 |\\n| **Frames** | Covered ₦45,000 | Covered up to ₦55,000 |\\n| **Primary Dental Care** | Covered Up to ₦150,000 | Covered up to ₦200,000 |\\n| **Secondary Dental Care** | Covered Up to ₦150,000 | Covered up to ₦200,000 |\\n| **Physiotherapy Care** | Covered (25 sessions) | Covered (30 sessions) |\\n| **Immunizations (6Yrs and above)** | Covered | Covered |\\n| **Lifestyle Management** | Covered | Covered |\\n| **Subsidized Fitness/nutritional club membership** | 15% | 15% |\\n| **Network Gym Access** | Covered (2 sessions per week) | Covered (2 sessions per week) |\\n| **On-site Health Checks and Talks** | Covered | Covered |\\n| **Family Planning** | Covered | Covered |\\n| **Surgeries** | Up to ₦2,500,000 limit | Up to ₦3,500,000 limit |\\n| **Obstetrics Care** | Covered | Covered |\\n| **Reimbursement of Delivery Abroad** | Normal - $180, CS-$300 | Normal - $180, CS-$300 |\\n| **Neonatal Care** | Covered | Covered |\\n| **Special Baby Care Unit** | 25 Days (₦750,000) | 25 Days (₦750,000) |\\n| **Renal care (Dialysis)** | Covered (20 sessions) | Covered (20 sessions) |\\n| **Cancer care** | Covered Up to ₦2,000,000 | Covered Up to ₦3,000,000 |\\n| **Wellness Checks** | Covered | Covered |\\n| **Ambulance Services** | Covered | Covered |\\n| **Psychiatry Care** | Covered | Covered |\\n| **Mental illnesses (Outpatient)** | Covered for 6 weeks | Covered for 6 weeks |\\n| **HIV care and treatment** | Covered | Covered |\\n| **Mortuary Services** | Covered Up to ₦150,000 Limit | Covered Up to ₦250,000 Limit |\\n| **Death Cover** | Covered Up to ₦150,000 Limit | Covered Up to ₦250,000 Limit |\\n\\n### **Other Benefits**\\n\\nThe PrimeCare Plus plan includes additional benefits not available under the PrimeCare plan:\\n\\n*   **Travel Insurance (Scope):** Limit of ₦500,000\\n*   **Travel Insurance (Duration):** Limit of ₦500,000\\n*   **Life Insurance Cover (Death Only):** Limit of ₦500,000\\n*   **Life Insurance Cover (Critical Illness and Permanent Disability):** Limit of ₦500,000'),\n",
       " Document(metadata={'pdf_name': 'PrimeCare - Exclusions.pdf'}, page_content='The following are excluded when you purchase the plan:\\n\\n*   Conditions caused by an act of war, an epidemic or enrollee participating in a riot\\n*   Domestic Violence\\n*   Civil Disobedience\\n*   Epidemic and Pandemic\\n*   Allergy testing and treatments\\n*   Auto Immune Diseases (Subsequent Investigations, Medication, and all forms of management)\\n*   All form of immune therapy treatment\\n*   Dental Prothesis\\n*   Dental, Surgical and Orthopeadic Implants\\n*   Spine surgery\\n*   Heart and Brain Surgeries\\n*   Neonatal care not listed under neonatal services\\n*   Self inflicted injuries\\n*   Congenital abnormalities for children not born on the plan\\n*   Treatment of substance abuse or addiction\\n*   Professional Sports and willful exposure to needless danger\\n*   School admission test\\n*   Stem cell transplant or bone marrow transplant\\n*   All types of dental or orthodontic cosmetic procedures including cost of consultation, examination, medication, procedures, follow-up visits\\n*   Teeth whitening, Braces, Veneers, Aligners, Crowns, Tooth replacement, Cosmetic dental surgical and non-surgical procedures\\n*   Hip replacement surgeries\\n*   PET Scan\\n*   In vitro fertilization (IVF)\\n*   Epidural procedures for normal deliveries\\n*   Laparoscopic Treatments\\n*   Hormone replacement therapy\\n*   Provision of hearing aids\\n*   Domiciliary/Hospice care\\n*   Alternative /Un-orthodox medicine\\n*   Services primarily for weight reduction or treatment of obesity\\n*   Cosmetic treatments and procedures\\n*   All investigations, consultations, medications, procedures, and treatments not covered by the plan'),\n",
       " Document(metadata={'pdf_name': 'PrimeCare - How it works.pdf'}, page_content=\"Here is the content found in the document:\\n\\n### Here's how to get covered by us\\n\\n1.  Purchase the plan and add your staff.\\n2.  Ask the policyholders (your staff) to activate their plans, or do it yourself from your dashboard.\\n3.  After activation, the e-HMO ID will be automatically generated.\\n4.  24 hours after activation, your staff can present their HMO ID at any of the hospitals under the plan to receive healthcare.\"),\n",
       " Document(metadata={'pdf_name': 'PrimeCare - Need to know.pdf'}, page_content=\"Here are some major details you need to know about the product.\\n\\nYour H.M.O ID is a requirement at the hospital\\nYour H.M.O ID contains an enrolment number you present at the hospital to access care. It's important to have your HMO ID with you, as it is required for treatment at any of the listed hospitals.\\n\\nYou can access healthcare professionals from the comfort of your home\\nYou can use the telemedicine option by simply chatting with a doctor via the platform.\\n\\nYou can reach our support if you encounter any challenge\\nWhen you or your staff arrive at any of the hospitals, tell them you are from Hygeia. If you experience any delay, call 09070008899\\n\\n08088188002 (WhatsApp Only)\\n09070008899 (WhatsApp and Call)\\n09039810004 (Call Only)\\n\\nInsurance regulations are adhered to\\nThis is an insurance product, and it adheres to standard insurance procedures.\\n\\nAuto renewal can be canceled at any point\\nThis plan is a periodic subscription that renews automatically for card transactions as long as the registered card is funded. Upon renewal, the payment will be deducted from your registered card or funded wallet. You can cancel the auto-renewal at any time by contacting our support team.\\n\\nYour benefits are usable 24 hours after activation\\nYou can start using your benefits 24 hours after receiving your HMO ID.\\n\\nAge Band\\nThis cover is for persons up to 65 years\\n\\nYou can reach our support if you encounter any challenge\\nWhen you or your staff arrive at any of the hospitals, tell them you are from Bastion. If you experience any delay, call 09070008899\\n\\n08088188002 (WhatsApp Only)\\n09070008899 (WhatsApp and Call)\\n09039810004 (Call Only)\"),\n",
       " Document(metadata={'pdf_name': 'ZenCare - Accessing care at the hospital.pdf'}, page_content='Here is the content found in the document:\\n\\n### Here are things to note when accessing care at the hospital\\n\\n**Prioritise your visit**\\nWe highly advise utilizing the \\'Visit Hospital\\' button as your first step. This helps us track your progress and prepares for your arrival, even in delays or emergencies.\\n\\n**Present your HMO I.D**\\nWhen you arrive at the hospital, make sure to present this as it contains essential information for your healthcare coverage.\\n\\n**Check HMO I.D Details**\\nFind your personal details on the HMO I.D. Below, you\\'ll see your HMO provider\\'s name (e.g., \"Bastion\"). Tell them you are from Bastion.\\n\\n**Contact Support**\\nIf you encounter challenges or have questions at the hospital, refer to the support line listed on your HMO I.D.\\n\\n*   08088188002 (WhatsApp Only)\\n*   09070008899 (WhatsApp and Call)\\n*   09039810004 (Call Only)'),\n",
       " Document(metadata={'pdf_name': 'ZenCare - Benefits.pdf'}, page_content='Product Benefits\\nZenCare\\nZenCare Plus\\nThese are subscription-based plans and they would be renewed based on your cover period, automatically.\\n#7,000 / person monthly\\nGet Covered\\n#9,000 / person monthly\\nGet Covered\\n\\nBenefits Available\\nInpatient Limit: Unlimited (ZenCare), Unlimited (ZenCare Plus)\\nOutpatient Limit: Unlimited (ZenCare), Unlimited (ZenCare Plus)\\nPharmacy Limit: Unlimited (ZenCare), Unlimited (ZenCare Plus)\\nGeneral consultation: Covered (ZenCare), Covered (ZenCare Plus)\\nSpecialist Consultations: Covered (ZenCare), Covered (ZenCare Plus)\\n24 Hours free chat access to healthcare professionals: Covered (ZenCare), Covered (ZenCare Plus)\\nFree chats with Doctors and Nurses when in need of care during any medical emergency\\nFree chats with Doctors and Nurses when in need of any routine medical information\\nFree Telemedicine app\\nTreatment of chronic conditions: Covered (ZenCare), Covered (ZenCare Plus)\\nGeneral Consultations\\nSpecialist Consultations\\nChronic Disease Medication - drug delivery and pick up at partner pharmacies\\nHospital Admissions\\nLaboratory tests\\nPersonal health equipment - BP machine, Glucometer, Trackers\\nFertility services: Covered (ZenCare), Covered (ZenCare Plus)\\nInvestigation and treatment at limits per plan: ₦15,000 (ZenCare), ₦45,000 (ZenCare Plus)\\nAccident and emergency: Covered (ZenCare), Covered (ZenCare Plus)\\nResuscitative care for accident and emergency cases, including basic radiological and laboratory investigations needed to stabilize patient before being moved to the ICU if need be.\\nIntensive care unit: Covered (ZenCare), Covered (ZenCare Plus)\\nFor comatose & unconscious enrolees, Pain management, Stabilisation and maintenance treatment for chronic diseases, Ventilator care, Management of diabetes and diabetic emergencies, Long term skilled and semi-skilled hospital care: 2 Days (ZenCare), 3 Days (ZenCare Plus)\\nDiagnostics and imaging: Covered (ZenCare), Covered (ZenCare Plus)\\nX-Rays and Ultrasounds: Covered (Not limited to the list) (ZenCare), Covered (ZenCare Plus)\\nAdvanced Investigations, limited to CT Scan, MRI Scan, Echocardiography, Electrocardiography: CT scan only and emergency cases for MRI (ZenCare), CT scan only and emergency cases for MRI (ZenCare Plus)\\nLaboratory Tests: Covered (ZenCare), Covered (ZenCare Plus)\\nHaematological tests\\nChemistry\\nMicrobiology\\nSerology\\nAdmissions and Accomodation: Covered (ZenCare), Covered (ZenCare Plus)\\nFeeding for enrolees on admission: General Ward (ZenCare), Semi-Private Ward (ZenCare Plus)\\nHospital Ward Care: General Ward (ZenCare), Semi-Private Ward (ZenCare Plus)\\nSkilled medical and paramedical services: General Ward (ZenCare), Semi-Private Ward (ZenCare Plus)\\nSupply of prescribed intravenous/intramuscular, oral and topical drugs: General Ward (ZenCare), Semi-Private Ward (ZenCare Plus)\\nSupply of all medical and surgical consumables: General Ward (ZenCare), Semi-Private Ward (ZenCare Plus)\\nBlood grouping, cross matching, and transfusion: General Ward (ZenCare), Semi-Private Ward (ZenCare Plus)\\nAccommodation for in-patient care: General Ward (ZenCare), Semi-Private Ward (ZenCare Plus)\\nAccommodation for parents whose infants are on admission: Not Covered (ZenCare), 2 Days (ZenCare Plus)\\nInpatient/Hospitalization Benefit Abroad: Not Covered (ZenCare), Not Covered (ZenCare Plus)\\nEar, nose & throat: Covered (ZenCare), Covered (ZenCare Plus)\\nSpecialist Consultation\\nTreatment of acute and chronic ENT diseases\\nENT Surgeries - (part of the surgical limit)\\nPharmacological treatment of acute and chronic ENT infections\\nMental Health: Covered (ZenCare), Covered (ZenCare Plus)\\nSpecialist Consultations on Outpatient Cases Only; limited based on type of plans: 4 weeks (ZenCare), 6 weeks (ZenCare Plus)\\nEmployee Assistance Program / Stress Management: 4 weeks (ZenCare), 6 weeks (ZenCare Plus)\\nCovid Home Care Kit - up to limit on the plan: 4 weeks (ZenCare), 6 weeks (ZenCare Plus)\\nHealth Talks/ Education forum or wellness fairs: 4 weeks (ZenCare), 6 weeks (ZenCare Plus)\\nEye Care: Covered (ZenCare), Covered (ZenCare Plus)\\nSpecialist Consultation\\nRoutine ocular examination\\nPharmacological treatment of acute and chronic ocular infections\\nOcular tests\\nLenses: Covered ₦15,000 (ZenCare), Covered ₦20,000 (ZenCare Plus)\\nFrames: Covered ₦15,000 (ZenCare), Covered ₦20,000 (ZenCare Plus)\\nPrimary Dental Care: Covered Up to Overall Dental Limit of ₦20,000 (ZenCare), Covered Up to Overall Dental Limit of ₦50,000 (ZenCare Plus)\\nSpecialist Consultation\\nRoutine dental examination\\nPreventive dental care and counselling\\nDental pain therapy at primary healthcare centres\\nPharmacological treatment of acute and chronic dental infections\\nAccess to prescribed drugs\\nSecondary Dental Care: Covered Up to Overall Dental Limit of ₦20,000 (ZenCare), Covered Up to Overall Dental Limit of ₦50,000 (ZenCare Plus)\\nSurgical extraction\\nNon-surgical extraction\\nRoot Canal Therapy\\nScaling and Polishing\\nOperculectomy\\nGingival Curettage\\nComposite Filling\\nAmalgam Filling\\nIncision and Drainage\\nPhysiotherapy Care: Covered (5 sessions) (ZenCare), Covered (12 sessions) (ZenCare Plus)\\nSpecialist Consultation\\nRoutine fitness examination\\nPreventive Counselling on referral\\nPain therapy\\nAccess to prescribed drugs\\nNPI Immunisation (0-5 Years): Covered (ZenCare), Covered (ZenCare Plus)\\nBCG\\nOPV\\nDPT\\nIPV\\nVitamin A Supplementation\\nPentavalent Vaccine\\nMeasles\\nYellow Fever\\nTyphoid\\nMeningitis\\nChicken Pox\\nPneumococcal\\nAdditional Immunization (6Yrs and above): Covered Up to ₦7,000 (ZenCare), Covered Up to ₦7,000 (ZenCare Plus)\\nHPV Vaccine\\nHepatitis B\\nLifestyle Management: Covered (ZenCare), Covered (ZenCare Plus)\\nSubsidized Fitness/ nutritional club membership (for non-network gym): 5% (ZenCare), 10% (ZenCare Plus)\\nNetwork Gym Access: Not Covered (ZenCare), Covered (2 sessions per week) (ZenCare Plus)\\nOn-site Health Checks, Health Talks/ Education forum or wellness fairs: Covered (ZenCare), Covered (ZenCare Plus)\\nFamily Planning: Covered (ZenCare), Covered (ZenCare Plus)\\nCopper T Intrauterine Device\\nLippes loop Intrauterine Device\\nOral Contraceptives\\nNorplant\\nSurgeries: Covered Up to Surgery Limit of ₦200,000 (ZenCare), Covered Up to Surgery Limit of ₦500,000 (ZenCare Plus)\\nMinor Surgeries\\nIntermediate Surgeries\\nMajor Surgeries\\nObstetrics Care: Covered (ZenCare), Covered (ZenCare Plus)\\nAntenatal Care\\nDelivery (Normal)\\nDelivery (Multiple)\\nAssisted Delivery\\nManual Vacuum Aspiration\\nEmergency or Elective Caesarean Section\\nReimbursement of Delivery Abroad: Not Covered (ZenCare), Not Covered (ZenCare Plus)\\nNeonatal Care: Covered (ZenCare), Covered (ZenCare Plus)\\nMale Circumcision\\nEar Piercing\\nSpecial Baby Care Unit (Intensive Care Unit - including Life Support, Phototherapy & Incubator Care): 2 Days (₦100,000) (ZenCare), 10 Days (₦300,000) (ZenCare Plus)\\nRenal care (Dialysis): Covered (ZenCare), Covered (ZenCare Plus)\\nDialysis: 3 Sessions (ZenCare), 6 Sessions (ZenCare Plus)\\nCancer care: Covered (ZenCare), Covered (ZenCare Plus)\\nConsultation, Admission, Counselling, Hospice Care, Surgical - Chemotherapy - Radiotherapy: Covered Up to ₦300,000 (ZenCare), Covered Up to ₦750,000 (ZenCare Plus)\\nWellness Checks: Covered (ZenCare), Covered (ZenCare Plus)\\nBMI Check\\nGeneral Physical Examination\\nVisual Acuity\\nBlood Pressure Check (Hypertension Screening)\\nBlood Sugar Check (Diabetes Screening)\\nGenotype\\nBlood Group\\nHIV\\nUrinalysis\\nSerum Cholesterol\\nALT / AST\\nECG\\nE/U/Cr\\nAnnual Prostate Specific Antigen screening for men over 40 years\\nMammogram, cervical smear for women over 35 years every 2 years (every other year)\\nAmbulance Services: Covered (ZenCare), Covered (ZenCare Plus)\\nMovement of patients from Hospital to Hospital\\nMovement of patients from Home/Accident Scene to Hospital\\nPsychiatry Care: Covered (ZenCare), Covered (ZenCare Plus)\\nMental illnesses: Covered for Outpatient cases Only (4 weeks) (ZenCare), Covered for Outpatient cases Only (6 weeks) (ZenCare Plus)\\nHIV care and treatment: Covered (ZenCare), Covered (ZenCare Plus)\\nSpecialist Consultation\\nSpecialist Drug therapy\\nPsychotherapy\\nSeeking second option: Covered (ZenCare), Covered (ZenCare Plus)\\nDiagnosis confirmation from secondary and tertiary care centres\\nLine of treatment confirmation from secondary and tertiary care centres\\nMortuary Services: Covered Up to ₦50,000 Limit (ZenCare), Covered Up to ₦75,000 Limit (ZenCare Plus)\\nAfter-demise care\\nDeath Cover: Covered Up to ₦50,000 Limit (ZenCare), Covered Up to ₦75,000 Limit (ZenCare Plus)\\nEnrollee is covered for a payment up to the stated limit in the event of Death (Natural, Accidental). The actual amount paid is based on the event while eligibility is subject to compliance with the rules of the plan.\\nOther Benefits (Applies only to the Principal and claimable once per annum): Not Covered (ZenCare), Not Covered (ZenCare Plus)\\nTravel Insurance (Scope)\\nTravel Insurance (Duration)\\nLife Insurance Cover (Death Only)\\nLife Insurance Cover (Critical Illness and Permanent Disability)'),\n",
       " Document(metadata={'pdf_name': 'ZenCare - Exclusions.pdf'}, page_content='The following are excluded when you purchase the plan:\\n\\n*   Conditions caused by an act of war, an epidemic or enrollee participating in a riot\\n*   Domestic Violence\\n*   Civil Disobedience\\n*   Epidemic and Pandemic\\n*   Allergy testing and treatments\\n*   Auto Immune Diseases (Subsequent Investigations, Medication, and all forms of management)\\n*   All form of immune therapy treatment\\n*   Dental Prothesis\\n*   Dental, Surgical and Orthopeadic Implants\\n*   Spine surgery\\n*   Heart and Brain Surgeries\\n*   Neonatal care not listed under neonatal services\\n*   Self inflicted injuries\\n*   Congenital abnormalities for children not born on the plan\\n*   Treatment of substance abuse or addiction\\n*   Professional Sports and willful exposure to needless danger\\n*   School admission test\\n*   Stem cell transplant or bone marrow transplant\\n*   All types of dental or orthodontic cosmetic procedures including cost of consultation, examination, medication, procedures, follow-up visits\\n*   Teeth whitening, Braces, Veneers, Aligners, Crowns, Tooth replacement, Cosmetic dental surgical and non-surgical procedures\\n*   Hip replacement surgeries\\n*   PET Scan\\n*   In vitro fertilization (IVF)\\n*   Epidural procedures for normal deliveries\\n*   Laparoscopic Treatments\\n*   Hormone replacement therapy\\n*   Provision of hearing aids\\n*   Domiciliary/Hospice care\\n*   Alternative /Un-orthodox medicine\\n*   Services primarily for weight reduction or treatment of obesity\\n*   Cosmetic treatments and procedures\\n*   All investigations, consultations, medications, procedures, and treatments not covered by the plan'),\n",
       " Document(metadata={'pdf_name': 'ZenCare - How it works.pdf'}, page_content=\"Here's how to get covered by us\\n1 Purchase the plan and add your staff.\\n2 Ask the policyholders (your staff) to activate their plans, or do it yourself from your dashboard.\\n3 After activation, the e-HMO ID will be automatically generated.\\n4 24 hours after activation, your staff can present their HMO ID at any of the hospitals under the plan to receive healthcare.\"),\n",
       " Document(metadata={'pdf_name': 'ZenCare - Need to know.pdf'}, page_content=\"Here are some major details you need to know about the product.\\n\\n**Your H.M.O ID is a requirement at the hospital**\\n\\nYour H.M.O ID contains an enrolment number you present at the hospital to access care. It's important to have your HMO ID with you, as it is required for treatment at any of the listed hospitals.\\n\\n**You can access healthcare professionals from the comfort of your home**\\n\\nYou can use the telemedicine option by simply chatting with a doctor via the platform.\\n\\n**You can reach our support if you encounter any challenge**\\n\\nWhen you or your staff arrive at any of the hospitals, tell them you are from Hygeia. If you experience any delay, call 09070008899\\n\\n08088188002 (WhatsApp Only)\\n09070008899 (WhatsApp and Call)\\n09039810004 (Call Only)\\n\\n**Insurance regulations are adhered to**\\n\\nThis is an insurance product, and it adheres to standard insurance procedures.\\n\\n**Auto renewal can be canceled at any point**\\n\\nThis plan is a periodic subscription that renews automatically for card transactions as long as the registered card is funded. Upon renewal, the payment will be deducted from your registered card or funded wallet. You can cancel the auto-renewal at any time by contacting our support team.\\n\\n**Your benefits are usable 24 hours after activation**\\n\\nYou can start using your benefits 24 hours after receiving your HMO ID.\\n\\n**Age Band**\\n\\nThis cover is for persons up to 65 years\\n\\n**You can reach our support if you encounter any challenge**\\n\\nWhen you or your staff arrive at any of the hospitals, tell them you are from Bastion. If you experience any delay, call 09070008899\\n\\n08088188002 (WhatsApp Only)\\n09070008899 (WhatsApp and Call)\\n09039810004 (Call Only)\")]"
      ]
     },
     "execution_count": 5,
     "metadata": {},
     "output_type": "execute_result"
    }
   ],
   "source": [
    "doc_list_per_pdfs"
   ]
  },
  {
   "cell_type": "code",
   "execution_count": 6,
   "id": "371fc665-6e43-484b-9754-436b0042d320",
   "metadata": {},
   "outputs": [],
   "source": [
    "# Initialize Embeddings\n",
    "embeddings = OpenAIEmbeddings(model=\"text-embedding-3-small\")"
   ]
  },
  {
   "cell_type": "code",
   "execution_count": 7,
   "id": "da61191f-0700-4a59-860b-8132a16dd41e",
   "metadata": {},
   "outputs": [],
   "source": [
    "# Initialize vector store\n",
    "vector_store = Chroma(\n",
    "    collection_name=\"rag_knowledge_base\",\n",
    "    embedding_function=embeddings,\n",
    "    persist_directory=\"./chroma_langchain_db\", \n",
    ")"
   ]
  },
  {
   "cell_type": "code",
   "execution_count": 8,
   "id": "3e723276-828f-4696-a03a-3e192c147afe",
   "metadata": {
    "scrolled": true
   },
   "outputs": [
    {
     "data": {
      "text/plain": [
       "['543d0c22-b781-4cee-95cd-332e93945cf8',\n",
       " 'f71b6ac3-ee89-4b28-bd32-0d284a7775c3',\n",
       " '646cc7d7-5e28-47a2-8738-5d5670efd5c3',\n",
       " '25dd0931-202a-4068-acf4-fa95ffa7a0fb',\n",
       " 'd406f1d2-846e-475a-bfc1-6962f1b3c949',\n",
       " 'bc47ef63-9445-4d34-b560-9128fc0c6240',\n",
       " 'a3a85763-f42b-45bc-b3bd-0d65554218b3',\n",
       " '05dbbe68-be75-4907-8320-068746ad71bc',\n",
       " '68dc61ee-9c8b-43db-b8aa-2a503b4ca756',\n",
       " '6dd520c6-82e8-4b79-a6aa-8eb570e55f4a',\n",
       " 'df7b16bf-fab3-4f59-be36-07e41e25d4c6',\n",
       " '98f97e2d-6a02-4937-8008-9436f9b513ff',\n",
       " 'ddb51c7d-b12c-425d-a028-98a1a04037bb',\n",
       " '414d4d18-4b5b-4925-bc9b-6140a7073103',\n",
       " '0fa77dc7-f531-4e66-b7fc-2bf737fb0b56']"
      ]
     },
     "execution_count": 8,
     "metadata": {},
     "output_type": "execute_result"
    }
   ],
   "source": [
    "# Create unique id's for each document\n",
    "uuids = [str(uuid4()) for _ in range(len(doc_list_per_pdfs))]\n",
    "\n",
    "# Store each document in the vector store\n",
    "vector_store.add_documents(documents=doc_list_per_pdfs, ids=uuids)"
   ]
  },
  {
   "cell_type": "code",
   "execution_count": 9,
   "id": "3d02dda7-650e-4318-95e2-7ff4b598dbe1",
   "metadata": {},
   "outputs": [],
   "source": [
    "# Create Retriever\n",
    "retriever = vector_store.as_retriever(search_type=\"similarity\", \n",
    "                                      search_kwargs={\"k\": 1})"
   ]
  },
  {
   "cell_type": "code",
   "execution_count": 10,
   "id": "2cb345aa-c2fb-47cc-9f7d-5ce5bb4d93c1",
   "metadata": {},
   "outputs": [
    {
     "data": {
      "text/plain": [
       "VectorStoreRetriever(tags=['Chroma', 'OpenAIEmbeddings'], vectorstore=<langchain_chroma.vectorstores.Chroma object at 0x0000017893626750>, search_kwargs={'k': 1})"
      ]
     },
     "execution_count": 10,
     "metadata": {},
     "output_type": "execute_result"
    }
   ],
   "source": [
    "retriever"
   ]
  },
  {
   "cell_type": "code",
   "execution_count": 11,
   "id": "2f3d5912-58b3-4284-ba94-1ffb6a2f5fba",
   "metadata": {},
   "outputs": [],
   "source": [
    "# Initialize llm\n",
    "llm = ChatOpenAI(model=\"gpt-4o-mini\", temperature=0)"
   ]
  },
  {
   "cell_type": "code",
   "execution_count": 12,
   "id": "df85ac61-5b12-477d-afa0-57fc5e158cfb",
   "metadata": {},
   "outputs": [],
   "source": [
    "# Define llm's template/instructions\n",
    "template = \"\"\"You are a helpful assistant that provides accurate information about healthcare insurance plans based on the provided documentation.\n",
    "\n",
    "Use the following context from healthcare plan documents to answer the question:\n",
    "\n",
    "{context}\n",
    "\n",
    "Question: {question}\n",
    "\n",
    "Answer:\"\"\"\n",
    "\n",
    "prompt = PromptTemplate(\n",
    "    input_variables=[\"context\", \"question\"],\n",
    "    template=(template)\n",
    ")"
   ]
  },
  {
   "cell_type": "code",
   "execution_count": 13,
   "id": "09eb3c8c-4457-4f23-bee4-d8f693a80194",
   "metadata": {},
   "outputs": [],
   "source": [
    "# Create retriever tool\n",
    "retriever_tool = create_retriever_tool(retriever=retriever,\n",
    "                                       name=\"rag_tool\", \n",
    "                                       description=\"Tool for rag implementation\")\n",
    "# Create Retriever QA\n",
    "doc_retriever_chain = RetrievalQA.from_chain_type(llm=llm,\n",
    "                                                  retriever=retriever,\n",
    "                                                  chain_type=\"stuff\",\n",
    "                                                  chain_type_kwargs={\"prompt\": prompt},\n",
    "                                                  return_source_documents=False)"
   ]
  },
  {
   "cell_type": "code",
   "execution_count": 14,
   "id": "56e64c54-b68e-4a72-aea7-b8b67cc016e9",
   "metadata": {},
   "outputs": [
    {
     "name": "stdout",
     "output_type": "stream",
     "text": [
      "The benefits available under the FlexiCare plan after 11 months are as follows:\n",
      "\n",
      "1. **Obstetrics Care** - Covered up to Maternity Limit of ₦100,000\n",
      "   - Antenatal Care - ✔\n",
      "   - Delivery (Normal) - ✔\n",
      "   - Delivery (Multiple) - ✔\n",
      "   - Assisted Delivery - ✔\n",
      "   - Manual Vacuum Aspiration - ✔\n",
      "   - Neonatal Care - Covered up to Maternity Limit of ₦100,000\n",
      "   - Male Circumcision - ✔\n",
      "   - Ear Piercing - ✔\n",
      "2. **Renal Care** - Covered Up to ₦40,000 Limit\n",
      "   - Dialysis - ✔\n"
     ]
    }
   ],
   "source": [
    "# Test bot\n",
    "print(doc_retriever_chain.invoke({\"query\":\"list all the flexi care benefit available after 11 months\"})[\"result\"])"
   ]
  }
 ],
 "metadata": {
  "kernelspec": {
   "display_name": "Python 3 (ipykernel)",
   "language": "python",
   "name": "python3"
  },
  "language_info": {
   "codemirror_mode": {
    "name": "ipython",
    "version": 3
   },
   "file_extension": ".py",
   "mimetype": "text/x-python",
   "name": "python",
   "nbconvert_exporter": "python",
   "pygments_lexer": "ipython3",
   "version": "3.12.7"
  }
 },
 "nbformat": 4,
 "nbformat_minor": 5
}
